{
 "cells": [
  {
   "cell_type": "code",
   "execution_count": 1,
   "id": "f2f68d0b",
   "metadata": {},
   "outputs": [],
   "source": [
    "import pandas as pd\n",
    "import numpy as np"
   ]
  },
  {
   "cell_type": "markdown",
   "id": "823d2d5e",
   "metadata": {},
   "source": [
    "## Reading the file and checking the number of fraud cases"
   ]
  },
  {
   "cell_type": "code",
   "execution_count": 2,
   "id": "0e6dc535",
   "metadata": {},
   "outputs": [
    {
     "data": {
      "text/plain": [
       "(7200, 5)"
      ]
     },
     "execution_count": 2,
     "metadata": {},
     "output_type": "execute_result"
    }
   ],
   "source": [
    "data = pd.read_csv('banksim.csv', index_col=0)\n",
    "data.shape"
   ]
  },
  {
   "cell_type": "code",
   "execution_count": 3,
   "id": "5da7ed86",
   "metadata": {},
   "outputs": [
    {
     "data": {
      "text/html": [
       "<div>\n",
       "<style scoped>\n",
       "    .dataframe tbody tr th:only-of-type {\n",
       "        vertical-align: middle;\n",
       "    }\n",
       "\n",
       "    .dataframe tbody tr th {\n",
       "        vertical-align: top;\n",
       "    }\n",
       "\n",
       "    .dataframe thead th {\n",
       "        text-align: right;\n",
       "    }\n",
       "</style>\n",
       "<table border=\"1\" class=\"dataframe\">\n",
       "  <thead>\n",
       "    <tr style=\"text-align: right;\">\n",
       "      <th></th>\n",
       "      <th>age</th>\n",
       "      <th>gender</th>\n",
       "      <th>category</th>\n",
       "      <th>amount</th>\n",
       "      <th>fraud</th>\n",
       "    </tr>\n",
       "  </thead>\n",
       "  <tbody>\n",
       "    <tr>\n",
       "      <th>171915</th>\n",
       "      <td>3</td>\n",
       "      <td>F</td>\n",
       "      <td>es_transportation</td>\n",
       "      <td>49.71</td>\n",
       "      <td>0</td>\n",
       "    </tr>\n",
       "    <tr>\n",
       "      <th>426989</th>\n",
       "      <td>4</td>\n",
       "      <td>F</td>\n",
       "      <td>es_health</td>\n",
       "      <td>39.29</td>\n",
       "      <td>0</td>\n",
       "    </tr>\n",
       "    <tr>\n",
       "      <th>310539</th>\n",
       "      <td>3</td>\n",
       "      <td>F</td>\n",
       "      <td>es_transportation</td>\n",
       "      <td>18.76</td>\n",
       "      <td>0</td>\n",
       "    </tr>\n",
       "    <tr>\n",
       "      <th>215216</th>\n",
       "      <td>4</td>\n",
       "      <td>M</td>\n",
       "      <td>es_transportation</td>\n",
       "      <td>13.95</td>\n",
       "      <td>0</td>\n",
       "    </tr>\n",
       "    <tr>\n",
       "      <th>569244</th>\n",
       "      <td>2</td>\n",
       "      <td>M</td>\n",
       "      <td>es_transportation</td>\n",
       "      <td>49.87</td>\n",
       "      <td>0</td>\n",
       "    </tr>\n",
       "  </tbody>\n",
       "</table>\n",
       "</div>"
      ],
      "text/plain": [
       "       age gender           category  amount  fraud\n",
       "171915   3      F  es_transportation   49.71      0\n",
       "426989   4      F          es_health   39.29      0\n",
       "310539   3      F  es_transportation   18.76      0\n",
       "215216   4      M  es_transportation   13.95      0\n",
       "569244   2      M  es_transportation   49.87      0"
      ]
     },
     "execution_count": 3,
     "metadata": {},
     "output_type": "execute_result"
    }
   ],
   "source": [
    "data\n",
    "data.head()"
   ]
  },
  {
   "cell_type": "code",
   "execution_count": 4,
   "id": "f64c86b3",
   "metadata": {},
   "outputs": [
    {
     "data": {
      "text/plain": [
       "fraud\n",
       "0    7000\n",
       "1     200\n",
       "Name: count, dtype: int64"
      ]
     },
     "execution_count": 4,
     "metadata": {},
     "output_type": "execute_result"
    }
   ],
   "source": [
    "data.fraud.value_counts()"
   ]
  },
  {
   "cell_type": "code",
   "execution_count": 5,
   "id": "b1411c33",
   "metadata": {},
   "outputs": [
    {
     "data": {
      "text/plain": [
       "gender\n",
       "F    3972\n",
       "M    3212\n",
       "E      11\n",
       "U       5\n",
       "Name: count, dtype: int64"
      ]
     },
     "execution_count": 5,
     "metadata": {},
     "output_type": "execute_result"
    }
   ],
   "source": [
    "data.gender.value_counts()"
   ]
  },
  {
   "cell_type": "code",
   "execution_count": 6,
   "id": "9f7ec4b9",
   "metadata": {},
   "outputs": [
    {
     "data": {
      "text/plain": [
       "category\n",
       "es_transportation        5975\n",
       "es_food                   294\n",
       "es_health                 243\n",
       "es_wellnessandbeauty      198\n",
       "es_fashion                 97\n",
       "es_barsandrestaurants      89\n",
       "es_hyper                   80\n",
       "es_sportsandtoys           76\n",
       "es_tech                    39\n",
       "es_hotelservices           31\n",
       "es_home                    24\n",
       "es_travel                  18\n",
       "es_contents                13\n",
       "es_leisure                 13\n",
       "es_otherservices           10\n",
       "Name: count, dtype: int64"
      ]
     },
     "execution_count": 6,
     "metadata": {},
     "output_type": "execute_result"
    }
   ],
   "source": [
    "data.category.value_counts()"
   ]
  },
  {
   "cell_type": "markdown",
   "id": "a7c34f13",
   "metadata": {},
   "source": [
    "## Data cleaning"
   ]
  },
  {
   "cell_type": "code",
   "execution_count": 7,
   "id": "ba65e4d7",
   "metadata": {},
   "outputs": [
    {
     "data": {
      "text/plain": [
       "(7184, 5)"
      ]
     },
     "execution_count": 7,
     "metadata": {},
     "output_type": "execute_result"
    }
   ],
   "source": [
    "# Dropping gender E and U\n",
    "data_a = data[(data.gender=='M')|(data.gender=='F')]\n",
    "data_a.shape"
   ]
  },
  {
   "cell_type": "code",
   "execution_count": 8,
   "id": "0b697906",
   "metadata": {},
   "outputs": [],
   "source": [
    "# Keep the numerical fields\n",
    "data_pro = data_a[['age', 'amount', 'fraud']].copy()"
   ]
  },
  {
   "cell_type": "code",
   "execution_count": 9,
   "id": "156b65b1",
   "metadata": {
    "scrolled": true
   },
   "outputs": [
    {
     "data": {
      "text/html": [
       "<div>\n",
       "<style scoped>\n",
       "    .dataframe tbody tr th:only-of-type {\n",
       "        vertical-align: middle;\n",
       "    }\n",
       "\n",
       "    .dataframe tbody tr th {\n",
       "        vertical-align: top;\n",
       "    }\n",
       "\n",
       "    .dataframe thead th {\n",
       "        text-align: right;\n",
       "    }\n",
       "</style>\n",
       "<table border=\"1\" class=\"dataframe\">\n",
       "  <thead>\n",
       "    <tr style=\"text-align: right;\">\n",
       "      <th></th>\n",
       "      <th>age</th>\n",
       "      <th>amount</th>\n",
       "      <th>fraud</th>\n",
       "      <th>M</th>\n",
       "    </tr>\n",
       "  </thead>\n",
       "  <tbody>\n",
       "    <tr>\n",
       "      <th>171915</th>\n",
       "      <td>3</td>\n",
       "      <td>49.71</td>\n",
       "      <td>0</td>\n",
       "      <td>False</td>\n",
       "    </tr>\n",
       "    <tr>\n",
       "      <th>426989</th>\n",
       "      <td>4</td>\n",
       "      <td>39.29</td>\n",
       "      <td>0</td>\n",
       "      <td>False</td>\n",
       "    </tr>\n",
       "    <tr>\n",
       "      <th>310539</th>\n",
       "      <td>3</td>\n",
       "      <td>18.76</td>\n",
       "      <td>0</td>\n",
       "      <td>False</td>\n",
       "    </tr>\n",
       "    <tr>\n",
       "      <th>215216</th>\n",
       "      <td>4</td>\n",
       "      <td>13.95</td>\n",
       "      <td>0</td>\n",
       "      <td>True</td>\n",
       "    </tr>\n",
       "    <tr>\n",
       "      <th>569244</th>\n",
       "      <td>2</td>\n",
       "      <td>49.87</td>\n",
       "      <td>0</td>\n",
       "      <td>True</td>\n",
       "    </tr>\n",
       "  </tbody>\n",
       "</table>\n",
       "</div>"
      ],
      "text/plain": [
       "       age  amount  fraud      M\n",
       "171915   3   49.71      0  False\n",
       "426989   4   39.29      0  False\n",
       "310539   3   18.76      0  False\n",
       "215216   4   13.95      0   True\n",
       "569244   2   49.87      0   True"
      ]
     },
     "execution_count": 9,
     "metadata": {},
     "output_type": "execute_result"
    }
   ],
   "source": [
    "ohc_gender = pd.get_dummies(data_a.gender, drop_first=True)\n",
    "data_pro['M'] = ohc_gender['M']\n",
    "data_pro.head()"
   ]
  },
  {
   "cell_type": "code",
   "execution_count": 10,
   "id": "fcc43aef",
   "metadata": {},
   "outputs": [
    {
     "data": {
      "text/html": [
       "<div>\n",
       "<style scoped>\n",
       "    .dataframe tbody tr th:only-of-type {\n",
       "        vertical-align: middle;\n",
       "    }\n",
       "\n",
       "    .dataframe tbody tr th {\n",
       "        vertical-align: top;\n",
       "    }\n",
       "\n",
       "    .dataframe thead th {\n",
       "        text-align: right;\n",
       "    }\n",
       "</style>\n",
       "<table border=\"1\" class=\"dataframe\">\n",
       "  <thead>\n",
       "    <tr style=\"text-align: right;\">\n",
       "      <th></th>\n",
       "      <th>age</th>\n",
       "      <th>amount</th>\n",
       "      <th>fraud</th>\n",
       "      <th>M</th>\n",
       "      <th>es_contents</th>\n",
       "      <th>es_fashion</th>\n",
       "      <th>es_food</th>\n",
       "      <th>es_health</th>\n",
       "      <th>es_home</th>\n",
       "      <th>es_hotelservices</th>\n",
       "      <th>es_hyper</th>\n",
       "      <th>es_leisure</th>\n",
       "      <th>es_otherservices</th>\n",
       "      <th>es_sportsandtoys</th>\n",
       "      <th>es_tech</th>\n",
       "      <th>es_transportation</th>\n",
       "      <th>es_travel</th>\n",
       "      <th>es_wellnessandbeauty</th>\n",
       "    </tr>\n",
       "  </thead>\n",
       "  <tbody>\n",
       "    <tr>\n",
       "      <th>171915</th>\n",
       "      <td>3</td>\n",
       "      <td>49.71</td>\n",
       "      <td>0</td>\n",
       "      <td>False</td>\n",
       "      <td>False</td>\n",
       "      <td>False</td>\n",
       "      <td>False</td>\n",
       "      <td>False</td>\n",
       "      <td>False</td>\n",
       "      <td>False</td>\n",
       "      <td>False</td>\n",
       "      <td>False</td>\n",
       "      <td>False</td>\n",
       "      <td>False</td>\n",
       "      <td>False</td>\n",
       "      <td>True</td>\n",
       "      <td>False</td>\n",
       "      <td>False</td>\n",
       "    </tr>\n",
       "  </tbody>\n",
       "</table>\n",
       "</div>"
      ],
      "text/plain": [
       "       age  amount  fraud      M  es_contents  es_fashion  es_food  es_health  \\\n",
       "171915   3   49.71      0  False        False       False    False      False   \n",
       "\n",
       "        es_home  es_hotelservices  es_hyper  es_leisure  es_otherservices  \\\n",
       "171915    False             False     False       False             False   \n",
       "\n",
       "        es_sportsandtoys  es_tech  es_transportation  es_travel  \\\n",
       "171915             False    False               True      False   \n",
       "\n",
       "        es_wellnessandbeauty  \n",
       "171915                 False  "
      ]
     },
     "execution_count": 10,
     "metadata": {},
     "output_type": "execute_result"
    }
   ],
   "source": [
    "ohc_category = pd.get_dummies(data_a.category, drop_first=True)\n",
    "data_pro = data_pro.merge(ohc_category, left_index=True,right_index=True)\n",
    "data_pro.head(1)"
   ]
  },
  {
   "cell_type": "markdown",
   "id": "a5c64354",
   "metadata": {},
   "source": [
    "## Novelty detection (semi-supervised learning)\n",
    "\n",
    "We use novelty detection by training a model to detect anomalies (frauds), and on the test data we classify outliers detected by the model as fraud. Then we check the performance metrics against the actual labels."
   ]
  },
  {
   "cell_type": "code",
   "execution_count": 11,
   "id": "6e989a23",
   "metadata": {},
   "outputs": [],
   "source": [
    "from sklearn.neighbors import LocalOutlierFactor as lof\n",
    "from sklearn.model_selection import train_test_split"
   ]
  },
  {
   "cell_type": "code",
   "execution_count": 12,
   "id": "e20533fd",
   "metadata": {},
   "outputs": [
    {
     "data": {
      "text/plain": [
       "fraud\n",
       "0    6285\n",
       "1     180\n",
       "Name: count, dtype: int64"
      ]
     },
     "execution_count": 12,
     "metadata": {},
     "output_type": "execute_result"
    }
   ],
   "source": [
    "y = data_pro['fraud']\n",
    "x = data_pro.drop(columns='fraud')\n",
    "\n",
    "x_train, x_test, y_train, y_test = train_test_split(x, y, test_size=.1, random_state=1, stratify=y)\n",
    "\n",
    "y_train.value_counts()"
   ]
  },
  {
   "cell_type": "code",
   "execution_count": 13,
   "id": "8c56f4e8",
   "metadata": {
    "scrolled": true
   },
   "outputs": [
    {
     "name": "stdout",
     "output_type": "stream",
     "text": [
      "2.86% of the training dataset contains outliers\n"
     ]
    }
   ],
   "source": [
    "print(f'{180/6285*100:.2f}% of the training dataset contains outliers')"
   ]
  },
  {
   "cell_type": "code",
   "execution_count": 14,
   "id": "eb59465a",
   "metadata": {},
   "outputs": [],
   "source": [
    "from sklearn.metrics import confusion_matrix, accuracy_score, recall_score\n",
    "from sklearn.ensemble import IsolationForest as isof"
   ]
  },
  {
   "cell_type": "code",
   "execution_count": 15,
   "id": "54e02066",
   "metadata": {},
   "outputs": [
    {
     "name": "stderr",
     "output_type": "stream",
     "text": [
      "C:\\Users\\jerro\\anaconda3\\lib\\site-packages\\joblib\\externals\\loky\\backend\\context.py:136: UserWarning: Could not find the number of physical cores for the following reason:\n",
      "found 0 physical cores < 1\n",
      "Returning the number of logical cores instead. You can silence this warning by setting LOKY_MAX_CPU_COUNT to the number of cores you want to use.\n",
      "  warnings.warn(\n",
      "  File \"C:\\Users\\jerro\\anaconda3\\lib\\site-packages\\joblib\\externals\\loky\\backend\\context.py\", line 282, in _count_physical_cores\n",
      "    raise ValueError(f\"found {cpu_count_physical} physical cores < 1\")\n"
     ]
    },
    {
     "name": "stdout",
     "output_type": "stream",
     "text": [
      "0.8779582366589327\n",
      "[[5657  628]\n",
      " [ 161   19]]\n",
      "0.9450889404485692\n",
      "[[6105  180]\n",
      " [ 175    5]]\n"
     ]
    }
   ],
   "source": [
    "# Random contamination factor\n",
    "otld = lof(contamination=.1)\n",
    "preds = otld.fit_predict(x_train)\n",
    "preds\n",
    "# 1 is considered an outlier, 0 is an inlier\n",
    "print(accuracy_score(y_train, [0 if x==1 else 1 for x in preds]))\n",
    "print(confusion_matrix(y_train, [0 if x==1 else 1 for x in preds]))\n",
    "\n",
    "# Proper contamination factor\n",
    "otld = lof(contamination=.0286)\n",
    "preds = otld.fit_predict(x_train)\n",
    "preds\n",
    "# 1 is considered an outlier, 0 is an inlier\n",
    "print(accuracy_score(y_train, [0 if x==1 else 1 for x in preds]))\n",
    "print(confusion_matrix(y_train, [0 if x==1 else 1 for x in preds]))"
   ]
  },
  {
   "cell_type": "raw",
   "id": "f6e16dcd",
   "metadata": {},
   "source": [
    "The accuracy and the confusion matrix improve significantly with the right contamination score"
   ]
  },
  {
   "cell_type": "code",
   "execution_count": 16,
   "id": "4cb07a9c",
   "metadata": {},
   "outputs": [
    {
     "name": "stdout",
     "output_type": "stream",
     "text": [
      "Accuray, recall, and confusion matrix\n",
      "0.9513212795549374\n",
      "0.977110157367668\n",
      "[[683  16]\n",
      " [ 19   1]]\n"
     ]
    },
    {
     "name": "stderr",
     "output_type": "stream",
     "text": [
      "C:\\Users\\jerro\\anaconda3\\lib\\site-packages\\sklearn\\base.py:464: UserWarning: X does not have valid feature names, but LocalOutlierFactor was fitted with feature names\n",
      "  warnings.warn(\n"
     ]
    }
   ],
   "source": [
    "otld = lof(contamination=.0286, novelty=True)\n",
    "otld.fit(x_train)\n",
    "test_preds = otld.predict(x_test)\n",
    "\n",
    "print('Accuray, recall, and confusion matrix')\n",
    "print(accuracy_score(y_test, [0 if x==1 else 1 for x in test_preds]))\n",
    "print(recall_score(y_test, [0 if x==1 else 1 for x in test_preds], pos_label=0))\n",
    "print(confusion_matrix(y_test, [0 if x==1 else 1 for x in test_preds]))"
   ]
  },
  {
   "cell_type": "markdown",
   "id": "240f5527",
   "metadata": {},
   "source": [
    "## Conclusion: Excellent novelty detection recall scores on the test dataset"
   ]
  }
 ],
 "metadata": {
  "kernelspec": {
   "display_name": "Python 3 (ipykernel)",
   "language": "python",
   "name": "python3"
  },
  "language_info": {
   "codemirror_mode": {
    "name": "ipython",
    "version": 3
   },
   "file_extension": ".py",
   "mimetype": "text/x-python",
   "name": "python",
   "nbconvert_exporter": "python",
   "pygments_lexer": "ipython3",
   "version": "3.10.9"
  }
 },
 "nbformat": 4,
 "nbformat_minor": 5
}
