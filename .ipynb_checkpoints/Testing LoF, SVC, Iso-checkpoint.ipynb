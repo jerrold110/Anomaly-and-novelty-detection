{
 "cells": [
  {
   "cell_type": "code",
   "execution_count": 1,
   "id": "0ccb84e3",
   "metadata": {},
   "outputs": [],
   "source": [
    "import pandas as pd\n",
    "import numpy as np\n",
    "from sklearn.neighbors import LocalOutlierFactor as lof\n",
    "from sklearn.svm import OneClassSVM as onesvm\n",
    "from sklearn.model_selection import train_test_split"
   ]
  },
  {
   "cell_type": "code",
   "execution_count": 2,
   "id": "bfbb1106",
   "metadata": {},
   "outputs": [
    {
     "name": "stdout",
     "output_type": "stream",
     "text": [
      "[ 1  1  1  1  1  1  1  1  1  1  1  1  1  1  1  1  1  1  1  1  1  1  1  1\n",
      "  1  1  1  1  1  1 -1]\n"
     ]
    }
   ],
   "source": [
    "x = [1.0]*30\n",
    "x.append(10.0)\n",
    "\n",
    "X = pd.DataFrame(x)\n",
    "\n",
    "print(lof().fit_predict(X))"
   ]
  },
  {
   "cell_type": "code",
   "execution_count": 3,
   "id": "d9747502",
   "metadata": {},
   "outputs": [
    {
     "data": {
      "text/html": [
       "<div>\n",
       "<style scoped>\n",
       "    .dataframe tbody tr th:only-of-type {\n",
       "        vertical-align: middle;\n",
       "    }\n",
       "\n",
       "    .dataframe tbody tr th {\n",
       "        vertical-align: top;\n",
       "    }\n",
       "\n",
       "    .dataframe thead th {\n",
       "        text-align: right;\n",
       "    }\n",
       "</style>\n",
       "<table border=\"1\" class=\"dataframe\">\n",
       "  <thead>\n",
       "    <tr style=\"text-align: right;\">\n",
       "      <th></th>\n",
       "      <th>age</th>\n",
       "      <th>sex</th>\n",
       "      <th>height</th>\n",
       "      <th>weight</th>\n",
       "      <th>QRSduration</th>\n",
       "      <th>PRinterval</th>\n",
       "      <th>Q-Tinterval</th>\n",
       "      <th>Tinterval</th>\n",
       "      <th>Pinterval</th>\n",
       "      <th>QRS</th>\n",
       "      <th>...</th>\n",
       "      <th>chV6_QwaveAmp</th>\n",
       "      <th>chV6_RwaveAmp</th>\n",
       "      <th>chV6_SwaveAmp</th>\n",
       "      <th>chV6_RPwaveAmp</th>\n",
       "      <th>chV6_SPwaveAmp</th>\n",
       "      <th>chV6_PwaveAmp</th>\n",
       "      <th>chV6_TwaveAmp</th>\n",
       "      <th>chV6_QRSA</th>\n",
       "      <th>chV6_QRSTA</th>\n",
       "      <th>class</th>\n",
       "    </tr>\n",
       "  </thead>\n",
       "  <tbody>\n",
       "    <tr>\n",
       "      <th>0</th>\n",
       "      <td>75</td>\n",
       "      <td>0</td>\n",
       "      <td>190</td>\n",
       "      <td>80</td>\n",
       "      <td>91</td>\n",
       "      <td>193</td>\n",
       "      <td>371</td>\n",
       "      <td>174</td>\n",
       "      <td>121</td>\n",
       "      <td>-16</td>\n",
       "      <td>...</td>\n",
       "      <td>0.0</td>\n",
       "      <td>9.0</td>\n",
       "      <td>-0.9</td>\n",
       "      <td>0.0</td>\n",
       "      <td>0.0</td>\n",
       "      <td>0.9</td>\n",
       "      <td>2.9</td>\n",
       "      <td>23.3</td>\n",
       "      <td>49.4</td>\n",
       "      <td>0</td>\n",
       "    </tr>\n",
       "    <tr>\n",
       "      <th>1</th>\n",
       "      <td>56</td>\n",
       "      <td>1</td>\n",
       "      <td>165</td>\n",
       "      <td>64</td>\n",
       "      <td>81</td>\n",
       "      <td>174</td>\n",
       "      <td>401</td>\n",
       "      <td>149</td>\n",
       "      <td>39</td>\n",
       "      <td>25</td>\n",
       "      <td>...</td>\n",
       "      <td>0.0</td>\n",
       "      <td>8.5</td>\n",
       "      <td>0.0</td>\n",
       "      <td>0.0</td>\n",
       "      <td>0.0</td>\n",
       "      <td>0.2</td>\n",
       "      <td>2.1</td>\n",
       "      <td>20.4</td>\n",
       "      <td>38.8</td>\n",
       "      <td>0</td>\n",
       "    </tr>\n",
       "    <tr>\n",
       "      <th>2</th>\n",
       "      <td>54</td>\n",
       "      <td>0</td>\n",
       "      <td>172</td>\n",
       "      <td>95</td>\n",
       "      <td>138</td>\n",
       "      <td>163</td>\n",
       "      <td>386</td>\n",
       "      <td>185</td>\n",
       "      <td>102</td>\n",
       "      <td>96</td>\n",
       "      <td>...</td>\n",
       "      <td>0.0</td>\n",
       "      <td>9.5</td>\n",
       "      <td>-2.4</td>\n",
       "      <td>0.0</td>\n",
       "      <td>0.0</td>\n",
       "      <td>0.3</td>\n",
       "      <td>3.4</td>\n",
       "      <td>12.3</td>\n",
       "      <td>49.0</td>\n",
       "      <td>0</td>\n",
       "    </tr>\n",
       "    <tr>\n",
       "      <th>3</th>\n",
       "      <td>55</td>\n",
       "      <td>0</td>\n",
       "      <td>175</td>\n",
       "      <td>94</td>\n",
       "      <td>100</td>\n",
       "      <td>202</td>\n",
       "      <td>380</td>\n",
       "      <td>179</td>\n",
       "      <td>143</td>\n",
       "      <td>28</td>\n",
       "      <td>...</td>\n",
       "      <td>0.0</td>\n",
       "      <td>12.2</td>\n",
       "      <td>-2.2</td>\n",
       "      <td>0.0</td>\n",
       "      <td>0.0</td>\n",
       "      <td>0.4</td>\n",
       "      <td>2.6</td>\n",
       "      <td>34.6</td>\n",
       "      <td>61.6</td>\n",
       "      <td>1</td>\n",
       "    </tr>\n",
       "    <tr>\n",
       "      <th>4</th>\n",
       "      <td>75</td>\n",
       "      <td>0</td>\n",
       "      <td>190</td>\n",
       "      <td>80</td>\n",
       "      <td>88</td>\n",
       "      <td>181</td>\n",
       "      <td>360</td>\n",
       "      <td>177</td>\n",
       "      <td>103</td>\n",
       "      <td>-16</td>\n",
       "      <td>...</td>\n",
       "      <td>0.0</td>\n",
       "      <td>13.1</td>\n",
       "      <td>-3.6</td>\n",
       "      <td>0.0</td>\n",
       "      <td>0.0</td>\n",
       "      <td>-0.1</td>\n",
       "      <td>3.9</td>\n",
       "      <td>25.4</td>\n",
       "      <td>62.8</td>\n",
       "      <td>0</td>\n",
       "    </tr>\n",
       "  </tbody>\n",
       "</table>\n",
       "<p>5 rows × 280 columns</p>\n",
       "</div>"
      ],
      "text/plain": [
       "   age  sex  height  weight  QRSduration  PRinterval  Q-Tinterval  Tinterval  \\\n",
       "0   75    0     190      80           91         193          371        174   \n",
       "1   56    1     165      64           81         174          401        149   \n",
       "2   54    0     172      95          138         163          386        185   \n",
       "3   55    0     175      94          100         202          380        179   \n",
       "4   75    0     190      80           88         181          360        177   \n",
       "\n",
       "   Pinterval  QRS  ...  chV6_QwaveAmp  chV6_RwaveAmp  chV6_SwaveAmp  \\\n",
       "0        121  -16  ...            0.0            9.0           -0.9   \n",
       "1         39   25  ...            0.0            8.5            0.0   \n",
       "2        102   96  ...            0.0            9.5           -2.4   \n",
       "3        143   28  ...            0.0           12.2           -2.2   \n",
       "4        103  -16  ...            0.0           13.1           -3.6   \n",
       "\n",
       "   chV6_RPwaveAmp  chV6_SPwaveAmp  chV6_PwaveAmp  chV6_TwaveAmp  chV6_QRSA  \\\n",
       "0             0.0             0.0            0.9            2.9       23.3   \n",
       "1             0.0             0.0            0.2            2.1       20.4   \n",
       "2             0.0             0.0            0.3            3.4       12.3   \n",
       "3             0.0             0.0            0.4            2.6       34.6   \n",
       "4             0.0             0.0           -0.1            3.9       25.4   \n",
       "\n",
       "   chV6_QRSTA  class  \n",
       "0        49.4      0  \n",
       "1        38.8      0  \n",
       "2        49.0      0  \n",
       "3        61.6      1  \n",
       "4        62.8      0  \n",
       "\n",
       "[5 rows x 280 columns]"
      ]
     },
     "execution_count": 3,
     "metadata": {},
     "output_type": "execute_result"
    }
   ],
   "source": [
    "arrh = pd.read_csv('arrh.csv')\n",
    "arrh.head()"
   ]
  },
  {
   "cell_type": "code",
   "execution_count": 4,
   "id": "638fb87b",
   "metadata": {},
   "outputs": [
    {
     "data": {
      "text/plain": [
       "1    245\n",
       "0    207\n",
       "Name: class, dtype: int64"
      ]
     },
     "execution_count": 4,
     "metadata": {},
     "output_type": "execute_result"
    }
   ],
   "source": [
    "arrh['class'].value_counts()"
   ]
  },
  {
   "cell_type": "raw",
   "id": "0f72f371",
   "metadata": {},
   "source": [
    "Treat the outliers as 0, the inliers as 1"
   ]
  },
  {
   "cell_type": "code",
   "execution_count": 5,
   "id": "74859a18",
   "metadata": {},
   "outputs": [
    {
     "data": {
      "text/plain": [
       "(452, 280)"
      ]
     },
     "execution_count": 5,
     "metadata": {},
     "output_type": "execute_result"
    }
   ],
   "source": [
    "arrh.shape"
   ]
  },
  {
   "cell_type": "code",
   "execution_count": 6,
   "id": "f8853629",
   "metadata": {},
   "outputs": [],
   "source": [
    "x = arrh.iloc[:,:-1]\n",
    "y = arrh.iloc[:,-1]\n",
    "\n",
    "x_train, x_test, y_train, y_test = train_test_split(x, y, test_size=.2, random_state=1, stratify=y)"
   ]
  },
  {
   "cell_type": "code",
   "execution_count": 21,
   "id": "3b6d0710",
   "metadata": {},
   "outputs": [
    {
     "data": {
      "text/plain": [
       "0.5420353982300885"
      ]
     },
     "execution_count": 21,
     "metadata": {},
     "output_type": "execute_result"
    }
   ],
   "source": [
    "y.mean()"
   ]
  },
  {
   "cell_type": "code",
   "execution_count": 25,
   "id": "d37260f5",
   "metadata": {},
   "outputs": [
    {
     "name": "stdout",
     "output_type": "stream",
     "text": [
      "0.4579646017699115% of the dataset are outliers marked as 0\n"
     ]
    }
   ],
   "source": [
    "print(f'{1-y.mean()}% of the dataset are outliers marked as 0')"
   ]
  },
  {
   "cell_type": "code",
   "execution_count": 7,
   "id": "89dd1c48",
   "metadata": {},
   "outputs": [],
   "source": [
    "from sklearn.metrics import confusion_matrix"
   ]
  },
  {
   "cell_type": "code",
   "execution_count": 8,
   "id": "f6ef4899",
   "metadata": {},
   "outputs": [
    {
     "name": "stdout",
     "output_type": "stream",
     "text": [
      "[[ 40 167]\n",
      " [  6 239]]\n"
     ]
    }
   ],
   "source": [
    "# Random contamination number\n",
    "otld = lof(contamination=.1)\n",
    "preds = otld.fit_predict(x)\n",
    "\n",
    "print(confusion_matrix(y, [1 if x==1 else 0 for x in preds]))"
   ]
  },
  {
   "cell_type": "code",
   "execution_count": 9,
   "id": "aff6899f",
   "metadata": {
    "scrolled": true
   },
   "outputs": [
    {
     "name": "stdout",
     "output_type": "stream",
     "text": [
      "[[141  66]\n",
      " [ 66 179]]\n"
     ]
    }
   ],
   "source": [
    "# Match outlier frequency to actual frequency\n",
    "prop_outliers = np.mean(y==0)\n",
    "otld = lof(contamination=prop_outliers)\n",
    "preds = otld.fit_predict(x)\n",
    "\n",
    "print(confusion_matrix(y, [1 if x==1 else 0 for x in preds]))"
   ]
  },
  {
   "cell_type": "raw",
   "id": "4724fa8b",
   "metadata": {},
   "source": [
    "Novelty detection"
   ]
  },
  {
   "cell_type": "code",
   "execution_count": 10,
   "id": "c644a9ad",
   "metadata": {},
   "outputs": [
    {
     "name": "stdout",
     "output_type": "stream",
     "text": [
      "[-9.e+10]\n",
      "[-1]\n"
     ]
    }
   ],
   "source": [
    "X = pd.DataFrame([1.0]*30)\n",
    "detector = lof(novelty=True)\n",
    "detector.fit(X)\n",
    "\n",
    "print(detector.score_samples(pd.DataFrame([10.0])))\n",
    "print(detector.predict(pd.DataFrame([10.0])))"
   ]
  },
  {
   "cell_type": "code",
   "execution_count": 11,
   "id": "0057b4a0",
   "metadata": {},
   "outputs": [
    {
     "name": "stdout",
     "output_type": "stream",
     "text": [
      "[-1.0637592  -1.8149777  -1.05058473 -1.06289688 -1.15114665 -1.22197811\n",
      " -1.07779883 -1.22397101 -1.05919921 -1.1056987  -1.28141828 -0.97988228\n",
      " -0.99188753 -1.16891641 -1.01049732 -0.98253874 -1.02216166 -1.03648722\n",
      " -1.7784151  -1.11003575 -1.17386534 -1.09147526 -1.0208608  -1.21968337\n",
      " -1.29003452 -1.15183796 -3.38489    -1.20773932 -1.11319295 -1.0750967\n",
      " -1.69733855 -1.28564168 -1.3057512  -2.17603385 -1.54152358 -1.04217458\n",
      " -1.00536258 -1.18308895 -1.46511005 -0.99505552 -0.98043443 -1.17888898\n",
      " -1.14282371 -1.0718713  -1.04560134 -1.04150351 -1.28031147 -1.02577673\n",
      " -1.02464076 -1.05407422 -1.32336941 -1.0037791  -1.02686969 -1.00307475\n",
      " -1.02364144 -0.99898393 -1.17185373 -0.97060898 -0.98057378 -1.16058733\n",
      " -1.16673273 -1.01151653 -1.10878104 -1.06971979 -1.1061729  -1.15981928\n",
      " -1.56758556 -1.19591146 -1.04207001 -1.48790893 -1.01220627 -1.06524292\n",
      " -1.46227643 -1.06957691 -1.30448491 -3.13382931 -1.03275397 -1.00677795\n",
      " -1.70472399 -1.31099944 -1.15378926 -0.99805375 -0.98779376 -1.05608348\n",
      " -1.02784888 -1.13045154 -1.12599169 -0.99652422 -1.26682752 -1.03915959\n",
      " -1.12943741]\n",
      "[ 1 -1  1  1  1  1  1  1  1  1  1  1  1  1  1  1  1  1 -1  1  1  1  1  1\n",
      "  1  1 -1  1  1  1 -1  1  1 -1 -1  1  1  1  1  1  1  1  1  1  1  1  1  1\n",
      "  1  1  1  1  1  1  1  1  1  1  1  1  1  1  1  1  1  1 -1  1  1  1  1  1\n",
      "  1  1  1 -1  1  1 -1  1  1  1  1  1  1  1  1  1  1  1  1]\n"
     ]
    }
   ],
   "source": [
    "lof_detector = lof(novelty=True).fit(x_train.values)\n",
    "scores = lof_detector.score_samples(x_test.values)\n",
    "print(scores)\n",
    "y_preds = lof_detector.predict(x_test.values)\n",
    "print(y_preds)"
   ]
  },
  {
   "cell_type": "markdown",
   "id": "cde8f54b",
   "metadata": {},
   "source": [
    "For the OneSVM, High scores are inliers, low scores are outliers"
   ]
  },
  {
   "cell_type": "code",
   "execution_count": 44,
   "id": "550170f3",
   "metadata": {},
   "outputs": [],
   "source": [
    "from sklearn.svm import OneClassSVM as onesvm\n",
    "from sklearn.metrics import accuracy_score"
   ]
  },
  {
   "cell_type": "code",
   "execution_count": 43,
   "id": "73ab2031",
   "metadata": {},
   "outputs": [
    {
     "name": "stdout",
     "output_type": "stream",
     "text": [
      "[-1  1  1  1 -1]\n",
      "[1.77987316 2.05479873 2.05560497 2.05615569 1.73328509]\n"
     ]
    }
   ],
   "source": [
    "from sklearn.svm import OneClassSVM\n",
    "X = [[0], [0.44], [0.45], [0.46], [1]]\n",
    "clf = OneClassSVM(gamma='auto').fit(X)\n",
    "\n",
    "print(clf.predict(X))\n",
    "\n",
    "print(clf.score_samples(X))"
   ]
  },
  {
   "cell_type": "code",
   "execution_count": 57,
   "id": "45439ebd",
   "metadata": {
    "scrolled": false
   },
   "outputs": [
    {
     "name": "stdout",
     "output_type": "stream",
     "text": [
      "[[ 8 34]\n",
      " [ 2 47]]\n"
     ]
    }
   ],
   "source": [
    "# Fit it to the training data and score the test data\n",
    "svm_detector = onesvm().fit(x_train.values)\n",
    "scores = svm_detector.score_samples(x_test.values)\n",
    "\n",
    "# To flag 10%\n",
    "# Numbers below threshold are outliers\n",
    "threshold = np.quantile(scores, 0.1)\n",
    "\n",
    "# in y_preds, outliers are 1, inliers are 0 at first\n",
    "y_preds = scores <= threshold\n",
    "y_preds = [int(x) for x in y_preds]\n",
    "y_preds = [0 if x==1 else 1 for x in y_preds]\n",
    "print(confusion_matrix(y_test, y_preds))"
   ]
  },
  {
   "cell_type": "code",
   "execution_count": 61,
   "id": "389ba0bf",
   "metadata": {
    "scrolled": true
   },
   "outputs": [
    {
     "name": "stdout",
     "output_type": "stream",
     "text": [
      "0.4570637119113573\n",
      "[[29 13]\n",
      " [13 36]]\n"
     ]
    }
   ],
   "source": [
    "# Fit it to the training data and score the test data\n",
    "svm_detector = onesvm().fit(x_train.values)\n",
    "scores = svm_detector.score_samples(x_test.values)\n",
    "\n",
    "# Flag it properly\n",
    "threshold = np.quantile(scores, 1-np.mean(y_train))\n",
    "print(1-np.mean(y_train))\n",
    "\n",
    "# in y_preds, outliers are 1, inliers are 0 at first\n",
    "y_preds = scores <= threshold\n",
    "y_preds = [int(x) for x in y_preds]\n",
    "y_preds = [0 if x==1 else 1 for x in y_preds]\n",
    "print(confusion_matrix(y_test, y_preds))"
   ]
  },
  {
   "cell_type": "raw",
   "id": "567060cb",
   "metadata": {},
   "source": [
    "Conclusion: on a dataset with 45% outliers, the performance improves somewhat"
   ]
  }
 ],
 "metadata": {
  "kernelspec": {
   "display_name": "Python 3 (ipykernel)",
   "language": "python",
   "name": "python3"
  },
  "language_info": {
   "codemirror_mode": {
    "name": "ipython",
    "version": 3
   },
   "file_extension": ".py",
   "mimetype": "text/x-python",
   "name": "python",
   "nbconvert_exporter": "python",
   "pygments_lexer": "ipython3",
   "version": "3.10.9"
  }
 },
 "nbformat": 4,
 "nbformat_minor": 5
}
